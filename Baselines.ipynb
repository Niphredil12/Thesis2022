{
 "cells": [
  {
   "cell_type": "code",
   "execution_count": 1,
   "metadata": {},
   "outputs": [],
   "source": [
    "import numpy as np\n",
    "import pandas as pd\n",
    "import matplotlib.pyplot as plt\n",
    "import seaborn as sns\n",
    "import string\n",
    "import eng_to_ipa as p\n",
    "import math\n",
    "from scipy import stats\n",
    "from sklearn.metrics import accuracy_score\n",
    "from sklearn.metrics import precision_score\n",
    "from sklearn.metrics import recall_score\n",
    "from sklearn.metrics import confusion_matrix\n",
    "from sklearn.metrics import mean_absolute_error\n",
    "from sklearn.metrics import median_absolute_error\n",
    "from sklearn.metrics import mean_squared_error\n",
    "from sklearn.metrics import r2_score"
   ]
  },
  {
   "cell_type": "markdown",
   "metadata": {},
   "source": [
    "## Load the data"
   ]
  },
  {
   "cell_type": "code",
   "execution_count": 2,
   "metadata": {},
   "outputs": [
    {
     "data": {
      "text/html": [
       "<div>\n",
       "<style scoped>\n",
       "    .dataframe tbody tr th:only-of-type {\n",
       "        vertical-align: middle;\n",
       "    }\n",
       "\n",
       "    .dataframe tbody tr th {\n",
       "        vertical-align: top;\n",
       "    }\n",
       "\n",
       "    .dataframe thead th {\n",
       "        text-align: right;\n",
       "    }\n",
       "</style>\n",
       "<table border=\"1\" class=\"dataframe\">\n",
       "  <thead>\n",
       "    <tr style=\"text-align: right;\">\n",
       "      <th></th>\n",
       "      <th>name</th>\n",
       "      <th>age</th>\n",
       "      <th>polarity</th>\n",
       "      <th>name_type</th>\n",
       "      <th>rating.mean_age</th>\n",
       "      <th>rating.mean_gender</th>\n",
       "      <th>rating.mean_valence</th>\n",
       "      <th>gender</th>\n",
       "    </tr>\n",
       "  </thead>\n",
       "  <tbody>\n",
       "    <tr>\n",
       "      <th>0</th>\n",
       "      <td>Adelaide</td>\n",
       "      <td>old</td>\n",
       "      <td>NaN</td>\n",
       "      <td>real</td>\n",
       "      <td>-0.617647</td>\n",
       "      <td>45.727273</td>\n",
       "      <td>NaN</td>\n",
       "      <td>female</td>\n",
       "    </tr>\n",
       "    <tr>\n",
       "      <th>1</th>\n",
       "      <td>Adelina</td>\n",
       "      <td>NaN</td>\n",
       "      <td>bad</td>\n",
       "      <td>real</td>\n",
       "      <td>NaN</td>\n",
       "      <td>47.771429</td>\n",
       "      <td>31.621622</td>\n",
       "      <td>female</td>\n",
       "    </tr>\n",
       "    <tr>\n",
       "      <th>2</th>\n",
       "      <td>Alasdair</td>\n",
       "      <td>young</td>\n",
       "      <td>NaN</td>\n",
       "      <td>real</td>\n",
       "      <td>18.709677</td>\n",
       "      <td>-35.657143</td>\n",
       "      <td>NaN</td>\n",
       "      <td>male</td>\n",
       "    </tr>\n",
       "    <tr>\n",
       "      <th>3</th>\n",
       "      <td>Alastor</td>\n",
       "      <td>old</td>\n",
       "      <td>NaN</td>\n",
       "      <td>madeup</td>\n",
       "      <td>13.812500</td>\n",
       "      <td>-38.833333</td>\n",
       "      <td>NaN</td>\n",
       "      <td>male</td>\n",
       "    </tr>\n",
       "    <tr>\n",
       "      <th>4</th>\n",
       "      <td>Alecto</td>\n",
       "      <td>old</td>\n",
       "      <td>NaN</td>\n",
       "      <td>madeup</td>\n",
       "      <td>3.593750</td>\n",
       "      <td>-35.722222</td>\n",
       "      <td>NaN</td>\n",
       "      <td>female</td>\n",
       "    </tr>\n",
       "  </tbody>\n",
       "</table>\n",
       "</div>"
      ],
      "text/plain": [
       "       name    age polarity name_type  rating.mean_age  rating.mean_gender  \\\n",
       "0  Adelaide    old      NaN      real        -0.617647           45.727273   \n",
       "1   Adelina    NaN      bad      real              NaN           47.771429   \n",
       "2  Alasdair  young      NaN      real        18.709677          -35.657143   \n",
       "3   Alastor    old      NaN    madeup        13.812500          -38.833333   \n",
       "4    Alecto    old      NaN    madeup         3.593750          -35.722222   \n",
       "\n",
       "   rating.mean_valence  gender  \n",
       "0                  NaN  female  \n",
       "1            31.621622  female  \n",
       "2                  NaN    male  \n",
       "3                  NaN    male  \n",
       "4                  NaN  female  "
      ]
     },
     "execution_count": 2,
     "metadata": {},
     "output_type": "execute_result"
    }
   ],
   "source": [
    "df = pd.read_csv(\"avgRatings_annotated.csv\")\n",
    "df.drop(df.columns[7:22], axis = 1, inplace = True)\n",
    "df.head()"
   ]
  },
  {
   "cell_type": "code",
   "execution_count": 3,
   "metadata": {},
   "outputs": [
    {
     "name": "stderr",
     "output_type": "stream",
     "text": [
      "C:\\Users\\gk200\\Anaconda3\\lib\\site-packages\\pandas\\core\\indexing.py:671: SettingWithCopyWarning: \n",
      "A value is trying to be set on a copy of a slice from a DataFrame\n",
      "\n",
      "See the caveats in the documentation: https://pandas.pydata.org/pandas-docs/stable/user_guide/indexing.html#returning-a-view-versus-a-copy\n",
      "  self._setitem_with_indexer(indexer, value)\n"
     ]
    }
   ],
   "source": [
    "for i in range(len(df[\"name\"])):\n",
    "    if df[\"polarity\"].loc[i] == \"good\":\n",
    "        df[\"polarity\"].loc[i] = 1\n",
    "    elif df[\"polarity\"].loc[i] == \"bad\" or df[\"polarity\"].loc[i] == \"ambiguous\":\n",
    "        df[\"polarity\"].loc[i] = 0\n",
    "        \n",
    "for i in range(len(df[\"name\"])):\n",
    "    if df[\"gender\"].loc[i] == \"female\":\n",
    "        df[\"gender\"].loc[i] = 1\n",
    "    elif df[\"gender\"].loc[i] == \"male\":\n",
    "        df[\"gender\"].loc[i] = 0\n",
    "        \n",
    "for i in range(len(df[\"name\"])):\n",
    "    if df[\"age\"].loc[i] == \"young\":\n",
    "        df[\"age\"].loc[i] = 1\n",
    "    elif df[\"age\"].loc[i] == \"old\":\n",
    "        df[\"age\"].loc[i] = 0"
   ]
  },
  {
   "cell_type": "markdown",
   "metadata": {},
   "source": [
    "## Polarity"
   ]
  },
  {
   "cell_type": "markdown",
   "metadata": {},
   "source": [
    "### Classification"
   ]
  },
  {
   "cell_type": "code",
   "execution_count": 5,
   "metadata": {},
   "outputs": [],
   "source": [
    "pol_df = df.loc[df['polarity'].notnull(), [\"name\",  \"name_type\", \"polarity\", \"rating.mean_valence\"]]\n",
    "pol_df.reset_index(drop=True, inplace=True)"
   ]
  },
  {
   "cell_type": "code",
   "execution_count": 9,
   "metadata": {},
   "outputs": [],
   "source": [
    "POL_majority = stats.mode(pol_df[\"polarity\"])"
   ]
  },
  {
   "cell_type": "code",
   "execution_count": 27,
   "metadata": {},
   "outputs": [],
   "source": [
    "ypred = np.array([int(POL_majority[0]) for i in range(len(pol_df[\"polarity\"]))], dtype=int)"
   ]
  },
  {
   "cell_type": "code",
   "execution_count": 29,
   "metadata": {},
   "outputs": [],
   "source": [
    "ytest = np.array(pol_df[\"polarity\"], dtype=int)"
   ]
  },
  {
   "cell_type": "code",
   "execution_count": 31,
   "metadata": {},
   "outputs": [
    {
     "name": "stdout",
     "output_type": "stream",
     "text": [
      "Accuracy: \n",
      "0.5555555555555556\n",
      "Precision: \n",
      "0.5555555555555556\n",
      "Recall: \n",
      "1.0\n",
      "Confusion matrix: \n",
      "[[ 0  0]\n",
      " [28 35]]\n"
     ]
    }
   ],
   "source": [
    "print(\"Accuracy: \", accuracy_score(ytest, ypred), \n",
    "      \"Precision: \", precision_score(ytest, ypred), \n",
    "      \"Recall: \", recall_score(ytest, ypred), \n",
    "      \"Confusion matrix: \", confusion_matrix(ypred, ytest), sep=\"\\n\")"
   ]
  },
  {
   "cell_type": "markdown",
   "metadata": {},
   "source": [
    "### Regression"
   ]
  },
  {
   "cell_type": "code",
   "execution_count": 44,
   "metadata": {},
   "outputs": [],
   "source": [
    "POL_meanrate = np.mean(pol_df[\"rating.mean_valence\"])"
   ]
  },
  {
   "cell_type": "code",
   "execution_count": 45,
   "metadata": {},
   "outputs": [],
   "source": [
    "ypred = np.array([POL_meanrate for i in range(len(pol_df[\"rating.mean_valence\"]))])"
   ]
  },
  {
   "cell_type": "code",
   "execution_count": 46,
   "metadata": {},
   "outputs": [],
   "source": [
    "ytest = np.array(pol_df[\"rating.mean_valence\"])"
   ]
  },
  {
   "cell_type": "code",
   "execution_count": 47,
   "metadata": {},
   "outputs": [
    {
     "name": "stdout",
     "output_type": "stream",
     "text": [
      "MAE: \n",
      "16.62611052678118\n",
      "Med-AE: \n",
      "15.840030464487667\n",
      "MSE: \n",
      "383.469156035298\n",
      "R2: \n",
      "-1.2152622645428952e+32\n"
     ]
    }
   ],
   "source": [
    "print(\"MAE: \", mean_absolute_error(ytest, ypred), \n",
    "      \"Med-AE: \", median_absolute_error(ytest, ypred), \n",
    "      \"MSE: \", mean_squared_error(ytest, ypred), \n",
    "      \"R2: \", r2_score(ypred, ytest), sep=\"\\n\")"
   ]
  },
  {
   "cell_type": "markdown",
   "metadata": {},
   "source": [
    "## Gender"
   ]
  },
  {
   "cell_type": "markdown",
   "metadata": {},
   "source": [
    "### Classification"
   ]
  },
  {
   "cell_type": "code",
   "execution_count": 32,
   "metadata": {},
   "outputs": [],
   "source": [
    "gen_df = df.loc[df['gender'].notnull(), [\"name\", \"name_type\",\"gender\", \"rating.mean_gender\"]]\n",
    "gen_df.reset_index(drop=True, inplace=True)"
   ]
  },
  {
   "cell_type": "code",
   "execution_count": 34,
   "metadata": {},
   "outputs": [],
   "source": [
    "GEN_majority = stats.mode(gen_df[\"gender\"])"
   ]
  },
  {
   "cell_type": "code",
   "execution_count": 35,
   "metadata": {},
   "outputs": [],
   "source": [
    "ypred = np.array([int(GEN_majority[0]) for i in range(len(gen_df[\"gender\"]))], dtype=int)"
   ]
  },
  {
   "cell_type": "code",
   "execution_count": 36,
   "metadata": {},
   "outputs": [],
   "source": [
    "ytest = np.array(gen_df[\"gender\"], dtype=int)"
   ]
  },
  {
   "cell_type": "code",
   "execution_count": 37,
   "metadata": {},
   "outputs": [
    {
     "name": "stdout",
     "output_type": "stream",
     "text": [
      "Accuracy: \n",
      "0.5139664804469274\n",
      "Precision: \n",
      "0.5139664804469274\n",
      "Recall: \n",
      "1.0\n",
      "Confusion matrix: \n",
      "[[ 0  0]\n",
      " [87 92]]\n"
     ]
    }
   ],
   "source": [
    "print(\"Accuracy: \", accuracy_score(ytest, ypred), \n",
    "      \"Precision: \", precision_score(ytest, ypred), \n",
    "      \"Recall: \", recall_score(ytest, ypred), \n",
    "      \"Confusion matrix: \", confusion_matrix(ypred, ytest), sep=\"\\n\")"
   ]
  },
  {
   "cell_type": "markdown",
   "metadata": {},
   "source": [
    "### Regression"
   ]
  },
  {
   "cell_type": "code",
   "execution_count": 49,
   "metadata": {},
   "outputs": [],
   "source": [
    "GEN_meanrate = np.mean(gen_df[\"rating.mean_gender\"])"
   ]
  },
  {
   "cell_type": "code",
   "execution_count": 50,
   "metadata": {},
   "outputs": [],
   "source": [
    "ypred = np.array([GEN_meanrate for i in range(len(gen_df[\"rating.mean_gender\"]))])"
   ]
  },
  {
   "cell_type": "code",
   "execution_count": 51,
   "metadata": {},
   "outputs": [],
   "source": [
    "ytest = np.array(gen_df[\"rating.mean_gender\"])"
   ]
  },
  {
   "cell_type": "code",
   "execution_count": 52,
   "metadata": {},
   "outputs": [
    {
     "name": "stdout",
     "output_type": "stream",
     "text": [
      "MAE: \n",
      "34.02235217245305\n",
      "Med-AE: \n",
      "38.77600400362458\n",
      "MSE: \n",
      "1361.7698708822234\n",
      "R2: \n",
      "-3.142539298946287e+36\n"
     ]
    }
   ],
   "source": [
    "print(\"MAE: \", mean_absolute_error(ytest, ypred), \n",
    "      \"Med-AE: \", median_absolute_error(ytest, ypred), \n",
    "      \"MSE: \", mean_squared_error(ytest, ypred), \n",
    "      \"R2: \", r2_score(ypred, ytest), sep=\"\\n\")"
   ]
  },
  {
   "cell_type": "markdown",
   "metadata": {},
   "source": [
    "## Age"
   ]
  },
  {
   "cell_type": "markdown",
   "metadata": {},
   "source": [
    "### Classification"
   ]
  },
  {
   "cell_type": "code",
   "execution_count": 39,
   "metadata": {},
   "outputs": [],
   "source": [
    "age_df = df.loc[df['age'].notnull(), [\"name\", \"name_type\", \"age\", \"rating.mean_age\"]]\n",
    "age_df.reset_index(drop=True, inplace=True)"
   ]
  },
  {
   "cell_type": "code",
   "execution_count": 40,
   "metadata": {},
   "outputs": [],
   "source": [
    "AGE_majority = stats.mode(age_df[\"age\"])"
   ]
  },
  {
   "cell_type": "code",
   "execution_count": 41,
   "metadata": {},
   "outputs": [],
   "source": [
    "ypred = np.array([int(AGE_majority[0]) for i in range(len(age_df[\"age\"]))], dtype=int)"
   ]
  },
  {
   "cell_type": "code",
   "execution_count": 42,
   "metadata": {},
   "outputs": [],
   "source": [
    "ytest = np.array(age_df[\"age\"], dtype=int)"
   ]
  },
  {
   "cell_type": "code",
   "execution_count": 43,
   "metadata": {},
   "outputs": [
    {
     "name": "stdout",
     "output_type": "stream",
     "text": [
      "Accuracy: \n",
      "0.5042016806722689\n",
      "Precision: \n",
      "0.5042016806722689\n",
      "Recall: \n",
      "1.0\n",
      "Confusion matrix: \n",
      "[[ 0  0]\n",
      " [59 60]]\n"
     ]
    }
   ],
   "source": [
    "print(\"Accuracy: \", accuracy_score(ytest, ypred), \n",
    "      \"Precision: \", precision_score(ytest, ypred), \n",
    "      \"Recall: \", recall_score(ytest, ypred), \n",
    "      \"Confusion matrix: \", confusion_matrix(ypred, ytest), sep=\"\\n\")"
   ]
  },
  {
   "cell_type": "markdown",
   "metadata": {},
   "source": [
    "### Regression"
   ]
  },
  {
   "cell_type": "code",
   "execution_count": 53,
   "metadata": {},
   "outputs": [],
   "source": [
    "AGE_meanrate = np.mean(age_df[\"rating.mean_age\"])"
   ]
  },
  {
   "cell_type": "code",
   "execution_count": 54,
   "metadata": {},
   "outputs": [],
   "source": [
    "ypred = np.array([AGE_meanrate for i in range(len(age_df[\"rating.mean_age\"]))])"
   ]
  },
  {
   "cell_type": "code",
   "execution_count": 55,
   "metadata": {},
   "outputs": [],
   "source": [
    "ytest = np.array(age_df[\"rating.mean_age\"])"
   ]
  },
  {
   "cell_type": "code",
   "execution_count": 56,
   "metadata": {},
   "outputs": [
    {
     "name": "stdout",
     "output_type": "stream",
     "text": [
      "MAE: \n",
      "17.326701560748777\n",
      "Med-AE: \n",
      "16.456430965974498\n",
      "MSE: \n",
      "411.1824024024797\n",
      "R2: \n",
      "0.0\n"
     ]
    }
   ],
   "source": [
    "print(\"MAE: \", mean_absolute_error(ytest, ypred), \n",
    "      \"Med-AE: \", median_absolute_error(ytest, ypred), \n",
    "      \"MSE: \", mean_squared_error(ytest, ypred), \n",
    "      \"R2: \", r2_score(ypred, ytest), sep=\"\\n\")"
   ]
  }
 ],
 "metadata": {
  "kernelspec": {
   "display_name": "Python 3",
   "language": "python",
   "name": "python3"
  },
  "language_info": {
   "codemirror_mode": {
    "name": "ipython",
    "version": 3
   },
   "file_extension": ".py",
   "mimetype": "text/x-python",
   "name": "python",
   "nbconvert_exporter": "python",
   "pygments_lexer": "ipython3",
   "version": "3.8.3"
  }
 },
 "nbformat": 4,
 "nbformat_minor": 4
}
