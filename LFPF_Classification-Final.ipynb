{
 "cells": [
  {
   "cell_type": "code",
   "execution_count": 7,
   "metadata": {},
   "outputs": [],
   "source": [
    "import numpy as np\n",
    "import pandas as pd\n",
    "import matplotlib.pyplot as plt\n",
    "import seaborn as sns\n",
    "import string\n",
    "import eng_to_ipa as p\n",
    "import math\n",
    "from sklearn.model_selection import LeaveOneOut\n",
    "from sklearn.model_selection import KFold\n",
    "from sklearn.model_selection import GridSearchCV\n",
    "from sklearn.linear_model import LogisticRegression\n",
    "from sklearn.ensemble import RandomForestClassifier\n",
    "from sklearn.metrics import accuracy_score\n",
    "from sklearn.metrics import precision_score\n",
    "from sklearn.metrics import recall_score\n",
    "from sklearn.metrics import confusion_matrix\n",
    "from sklearn.metrics import mean_absolute_error\n",
    "from sklearn.metrics import median_absolute_error\n",
    "from sklearn.metrics import mean_squared_error\n",
    "from sklearn.metrics import r2_score"
   ]
  },
  {
   "cell_type": "markdown",
   "metadata": {},
   "source": [
    "## Load the data"
   ]
  },
  {
   "cell_type": "code",
   "execution_count": 2,
   "metadata": {},
   "outputs": [
    {
     "data": {
      "text/html": [
       "<div>\n",
       "<style scoped>\n",
       "    .dataframe tbody tr th:only-of-type {\n",
       "        vertical-align: middle;\n",
       "    }\n",
       "\n",
       "    .dataframe tbody tr th {\n",
       "        vertical-align: top;\n",
       "    }\n",
       "\n",
       "    .dataframe thead th {\n",
       "        text-align: right;\n",
       "    }\n",
       "</style>\n",
       "<table border=\"1\" class=\"dataframe\">\n",
       "  <thead>\n",
       "    <tr style=\"text-align: right;\">\n",
       "      <th></th>\n",
       "      <th>name</th>\n",
       "      <th>age</th>\n",
       "      <th>polarity</th>\n",
       "      <th>name_type</th>\n",
       "      <th>rating.mean_age</th>\n",
       "      <th>rating.mean_gender</th>\n",
       "      <th>rating.mean_valence</th>\n",
       "      <th>gender</th>\n",
       "    </tr>\n",
       "  </thead>\n",
       "  <tbody>\n",
       "    <tr>\n",
       "      <th>0</th>\n",
       "      <td>Adelaide</td>\n",
       "      <td>old</td>\n",
       "      <td>NaN</td>\n",
       "      <td>real</td>\n",
       "      <td>-0.617647</td>\n",
       "      <td>45.727273</td>\n",
       "      <td>NaN</td>\n",
       "      <td>female</td>\n",
       "    </tr>\n",
       "    <tr>\n",
       "      <th>1</th>\n",
       "      <td>Adelina</td>\n",
       "      <td>NaN</td>\n",
       "      <td>bad</td>\n",
       "      <td>real</td>\n",
       "      <td>NaN</td>\n",
       "      <td>47.771429</td>\n",
       "      <td>31.621622</td>\n",
       "      <td>female</td>\n",
       "    </tr>\n",
       "    <tr>\n",
       "      <th>2</th>\n",
       "      <td>Alasdair</td>\n",
       "      <td>young</td>\n",
       "      <td>NaN</td>\n",
       "      <td>real</td>\n",
       "      <td>18.709677</td>\n",
       "      <td>-35.657143</td>\n",
       "      <td>NaN</td>\n",
       "      <td>male</td>\n",
       "    </tr>\n",
       "    <tr>\n",
       "      <th>3</th>\n",
       "      <td>Alastor</td>\n",
       "      <td>old</td>\n",
       "      <td>NaN</td>\n",
       "      <td>madeup</td>\n",
       "      <td>13.812500</td>\n",
       "      <td>-38.833333</td>\n",
       "      <td>NaN</td>\n",
       "      <td>male</td>\n",
       "    </tr>\n",
       "    <tr>\n",
       "      <th>4</th>\n",
       "      <td>Alecto</td>\n",
       "      <td>old</td>\n",
       "      <td>NaN</td>\n",
       "      <td>madeup</td>\n",
       "      <td>3.593750</td>\n",
       "      <td>-35.722222</td>\n",
       "      <td>NaN</td>\n",
       "      <td>female</td>\n",
       "    </tr>\n",
       "  </tbody>\n",
       "</table>\n",
       "</div>"
      ],
      "text/plain": [
       "       name    age polarity name_type  rating.mean_age  rating.mean_gender  \\\n",
       "0  Adelaide    old      NaN      real        -0.617647           45.727273   \n",
       "1   Adelina    NaN      bad      real              NaN           47.771429   \n",
       "2  Alasdair  young      NaN      real        18.709677          -35.657143   \n",
       "3   Alastor    old      NaN    madeup        13.812500          -38.833333   \n",
       "4    Alecto    old      NaN    madeup         3.593750          -35.722222   \n",
       "\n",
       "   rating.mean_valence  gender  \n",
       "0                  NaN  female  \n",
       "1            31.621622  female  \n",
       "2                  NaN    male  \n",
       "3                  NaN    male  \n",
       "4                  NaN  female  "
      ]
     },
     "execution_count": 2,
     "metadata": {},
     "output_type": "execute_result"
    }
   ],
   "source": [
    "df = pd.read_csv(\"avgRatings_annotated.csv\")\n",
    "df.drop(df.columns[7:22], axis = 1, inplace = True)\n",
    "df.head()"
   ]
  },
  {
   "cell_type": "code",
   "execution_count": 3,
   "metadata": {},
   "outputs": [
    {
     "name": "stderr",
     "output_type": "stream",
     "text": [
      "C:\\Users\\gk200\\Anaconda3\\lib\\site-packages\\pandas\\core\\indexing.py:671: SettingWithCopyWarning: \n",
      "A value is trying to be set on a copy of a slice from a DataFrame\n",
      "\n",
      "See the caveats in the documentation: https://pandas.pydata.org/pandas-docs/stable/user_guide/indexing.html#returning-a-view-versus-a-copy\n",
      "  self._setitem_with_indexer(indexer, value)\n"
     ]
    }
   ],
   "source": [
    "for i in range(len(df[\"name\"])):\n",
    "    if df[\"polarity\"].loc[i] == \"good\":\n",
    "        df[\"polarity\"].loc[i] = 1\n",
    "    elif df[\"polarity\"].loc[i] == \"bad\" or df[\"polarity\"].loc[i] == \"ambiguous\":\n",
    "        df[\"polarity\"].loc[i] = 0\n",
    "        \n",
    "for i in range(len(df[\"name\"])):\n",
    "    if df[\"gender\"].loc[i] == \"female\":\n",
    "        df[\"gender\"].loc[i] = 1\n",
    "    elif df[\"gender\"].loc[i] == \"male\":\n",
    "        df[\"gender\"].loc[i] = 0\n",
    "        \n",
    "for i in range(len(df[\"name\"])):\n",
    "    if df[\"age\"].loc[i] == \"young\":\n",
    "        df[\"age\"].loc[i] = 1\n",
    "    elif df[\"age\"].loc[i] == \"old\":\n",
    "        df[\"age\"].loc[i] = 0"
   ]
  },
  {
   "cell_type": "markdown",
   "metadata": {},
   "source": [
    "## Vectorize"
   ]
  },
  {
   "cell_type": "markdown",
   "metadata": {},
   "source": [
    "### Letter Features"
   ]
  },
  {
   "cell_type": "code",
   "execution_count": 4,
   "metadata": {},
   "outputs": [],
   "source": [
    "def count_vector(word):\n",
    "    alphabet_string = string.ascii_lowercase\n",
    "    alphabet_list = list(alphabet_string)\n",
    "    \n",
    "    vector = []\n",
    "    for i in range(len(alphabet_list)):\n",
    "        vector.append(word.lower().count(alphabet_list[i]))\n",
    "        \n",
    "    return vector\n",
    "\n",
    "df[\"letter_vec\"] = pd.NaT\n",
    "\n",
    "vector_list = []\n",
    "for i in range(len(df[\"name\"])):\n",
    "    cv = count_vector(df.loc[i][\"name\"])\n",
    "    vector_list.append(cv)\n",
    "    \n",
    "varray = np.array(vector_list, dtype=int)\n",
    "\n",
    "for i in range(len(df[\"name\"])):\n",
    "    df[\"letter_vec\"].loc[i] = varray[i]"
   ]
  },
  {
   "cell_type": "code",
   "execution_count": 5,
   "metadata": {},
   "outputs": [],
   "source": [
    "feature_names_lf = list(string.ascii_lowercase)"
   ]
  },
  {
   "cell_type": "markdown",
   "metadata": {},
   "source": [
    "### Phonological Features"
   ]
  },
  {
   "cell_type": "code",
   "execution_count": 8,
   "metadata": {},
   "outputs": [
    {
     "name": "stdout",
     "output_type": "stream",
     "text": [
      "NA value count:  53\n"
     ]
    }
   ],
   "source": [
    "ipa_temp = []\n",
    "\n",
    "for name in df[\"name\"].values:\n",
    "    nipa = p.convert(name)\n",
    "    if nipa[-1] == \"*\":\n",
    "        ipa_temp.append(\"NA\")\n",
    "    else:\n",
    "        ipa_temp.append(nipa)\n",
    "  \n",
    "print(\"NA value count: \", len([ipa_temp[i] for i in range(len(ipa_temp)) if ipa_temp[i] == \"NA\"]))\n",
    "#print(ipa_temp)\n",
    "df[\"IPA\"] = ipa_temp"
   ]
  },
  {
   "cell_type": "code",
   "execution_count": 9,
   "metadata": {},
   "outputs": [],
   "source": [
    "na_names_tr = pd.read_csv(\"na_names.csv\")\n",
    "\n",
    "for i in range(len(df[\"name\"])):\n",
    "    for j in range(len(na_names_tr[\"name\"])):\n",
    "        if df[\"name\"].loc[i] == na_names_tr[\"name\"][j]:\n",
    "            df[\"IPA\"].loc[i] = na_names_tr[\"IPA\"][j]"
   ]
  },
  {
   "cell_type": "code",
   "execution_count": 10,
   "metadata": {},
   "outputs": [],
   "source": [
    "feature_dict = {\"Obstruents\": [\"t\",\"d\",\"s\",\"z\",\"ɬ\",\"ɮ\",\"θ\",\"ð\",\"c\",\"ɟ\",\"ç\",\"ʝ\"],\n",
    "                \"Fricatives\": [\"ɸ\",\"β\",\"f\",\"v\",\"θ\",\"ð\",\"s\",\"z\",\"ʃ\",\"ʒ\",\"ʂ\",\"ʐ\",\"ç\",\"ʝ\",\"x\",\"ɣ\",\"χ\",\"ʁ\",\"ħ\",\"ʕ\",\"h\",\"ɦ\"],\n",
    "                \"Lateral Fricatives\": [\"ɬ\",\"ɮ\"],\n",
    "                \"Plosives\": [\"p\",\"b\",\"t\",\"d\",\"ʈ\",\"ɖ\",\"c\",\"ɟ\",\"k\",\"g\",\"q\",\"ɢ\",\"ʔ\"],\n",
    "                \"Nasals\": [\"m\",\"ɱ\",\"n\",\"ɳ\",\"ɲ\",\"ŋ\",\"ɴ\"],\n",
    "                \"Approximants\": [\"ʋ\",\"ɹ\",\"ɻ\",\"j\",\"ɰ\"],\n",
    "                \"Lateral Approximants\": [\"l\",\"ɭ\",\"ʎ\",\"ʟ\"],\n",
    "                \"Alveolars\": [\"t\",\"d\",\"n\",\"r\",\"ɾ\",\"s\",\"z\",\"ɬ\",\"ɮ\",\"ɹ\",\"l\"],\n",
    "                \"Glottals\": [\"ʔ\",\"h\",\"ɦ\"],\n",
    "                \"Dentals\": [\"θ\",\"ð\"],\n",
    "                \"Bilabials\": [\"p\",\"b\",\"m\",\"ʙ\",\"ɸ\",\"β\"],\n",
    "                \"Sonorants\": [\"m\",\"ɱ\",\"n\",\"ɳ\",\"ɲ\",\"ŋ\",\"ɴ\",\"l\",\"ʎ\",\"r\",\"ɹ\",\"ʀ\"],\n",
    "                \"Velars\": [\"k\",\"ɡ\",\"ŋ\",\"x\",\"ɣ\",\"ɰ\",\"ʟ\"],\n",
    "                \"Voiced\": [\"b\",\"m\",\"ʙ\",\"β\",\"ɱ\",\"ⱱ\",\"v\",\"ʋ\",\"ð\",\"d\",\"n\",\"r\",\"ɾ\",\"z\",\"ɮ\",\"ɹ\",\"l\",\"ʒ\",\"ɖ\",\"ɳ\",\"ɽ\",\"ʐ\",\"ɻ\",\"ɭ\",\"ɟ\",\"ɲ\",\"ʝ\",\"j\",\"ʎ\",\"ɡ\",\"ŋ\",\"ɣ\",\"ɰ\",\"ʟ\",\"ɢ\",\"ɴ\",\"ʀ\",\"ʁ\",\"ʕ\",\"ɦ\"],\n",
    "                \"Voiceless\": [\"p\",\"ɸ\",\"f\",\"θ\",\"t\",\"s\",\"ɬ\",\"ʃ\",\"ʈ\",\"ʂ\",\"c\",\"ç\",\"k\",\"x\",\"q\",\"χ\",\"ħ\",\"ʔ\",\"h\"],\n",
    "                \"High\": [\"i\",\"y\",\"ɪ\",\"ʏ\",\"ɨ\",\"ʉ\",\"ʊ\",\"ɯ\",\"u\"],\n",
    "                \"Mid\": [\"e\",\"ø\",\"ɘ\",\"ɵ\",\"ɤ\",\"o\",\"ə\",\"ɛ\",\"œ\",\"ɜ\",\"ɞ\",\"ʌ\",\"ɔ\"],\n",
    "                \"Low\": [\"æ\",\"ɐ\",\"a\",\"ɶ\",\"ɑ\",\"ɒ\"],\n",
    "                \"Front\": [\"i\",\"y\",\"ɪ\",\"ʏ\",\"e\",\"ø\",\"ɛ\",\"œ\",\"æ\",\"a\",\"ɶ\"],\n",
    "                \"Central\": [\"ɨ\",\"ʉ\",\"ɘ\",\"ɵ\",\"ə\",\"ɜ\",\"ɞ\",\"ɐ\"],\n",
    "                \"Back\": [\"ɯ\",\"u\",\"ʊ\",\"ɤ\",\"o\",\"ʌ\",\"ɔ\",\"ɑ\",\"ɒ\"],\n",
    "                \"Rounded\": [\"y\",\"ʏ\",\"ø\",\"œ\",\"ɶ\",\"ʉ\",\"ɵ\",\"ɞ\",\"u\",\"o\",\"ɔ\",\"ɒ\"],\n",
    "                \"Unrounded\": [\"i\",\"e\",\"ɪ\",\"ɛ\",\"a\",\"ɨ\",\"ɘ\",\"ɜ\",\"ɯ\",\"ɤ\",\"ʌ\",\"ɑ\"]}"
   ]
  },
  {
   "cell_type": "code",
   "execution_count": 11,
   "metadata": {},
   "outputs": [],
   "source": [
    "feature_names_pf = list(feature_dict.keys())"
   ]
  },
  {
   "cell_type": "code",
   "execution_count": 12,
   "metadata": {},
   "outputs": [],
   "source": [
    "def get_phonological_features(word_ipa, feature_dict):\n",
    "    word_pv = np.zeros((1, len(feature_dict.keys())), dtype=int)\n",
    "    word_pvdf = pd.DataFrame(word_pv, columns=list(feature_dict.keys()))\n",
    "    for i in range(len(word_ipa)):\n",
    "        for key in list(feature_dict.keys()):\n",
    "            if word_ipa[i] in feature_dict[key]:\n",
    "                word_pvdf[key][0] += 1\n",
    "    return word_pvdf.iloc[0]\n",
    "\n",
    "df[\"phonological_vec\"] = pd.NaT\n",
    "\n",
    "vector_list = []\n",
    "for i in range(len(df[\"IPA\"])):\n",
    "    phv = np.array(get_phonological_features(df.loc[i][\"IPA\"], feature_dict), dtype=int)\n",
    "    vector_list.append(phv)\n",
    "    \n",
    "varray = np.array(vector_list, dtype=int)\n",
    "varray\n",
    "\n",
    "for i in range(len(df[\"name\"])):\n",
    "    df[\"phonological_vec\"].loc[i] = varray[i]"
   ]
  },
  {
   "cell_type": "markdown",
   "metadata": {},
   "source": [
    "# Training"
   ]
  },
  {
   "cell_type": "code",
   "execution_count": 13,
   "metadata": {},
   "outputs": [],
   "source": [
    "def train_RFC(input_df, feature_col, attribute_col):\n",
    "    \n",
    "    #cross-validation and model instantiations\n",
    "    loo = LeaveOneOut()\n",
    "    forest = RandomForestClassifier(random_state=7)\n",
    "    \n",
    "    #parameter grid and GridSearchCV (shuffle is false so random state is not actually needed but is there just in case)\n",
    "    param_grid = {\"n_estimators\" : [25, 50, 75, 100], \"max_depth\" : [5, 8, 15, 25]}\n",
    "    gs_rf = GridSearchCV(forest, param_grid, scoring=\"neg_mean_absolute_error\", cv=KFold(3, random_state=7))\n",
    "    \n",
    "    \n",
    "    #getting the data to be split\n",
    "    xlist = [vector for vector in input_df[feature_col]]\n",
    "    xarray = np.array(xlist, dtype=int)    \n",
    "\n",
    "    X = xarray\n",
    "    y = np.array(input_df[attribute_col],dtype=int)   \n",
    "    \n",
    "    #getting the names and their types of ease of use later on\n",
    "    names = input_df[\"name\"]\n",
    "    types = input_df[\"name_type\"]\n",
    "    \n",
    "\n",
    "    #list for the prediction of each name's rating\n",
    "    predictions = []\n",
    "    #feature importances list to store each (LOOCV) fold's feature importances\n",
    "    importances = []\n",
    "    \n",
    "    #do the cross validation split (test is going to be only one name and train is going to be every other name but that)\n",
    "    for train_index, test_index in loo.split(X):\n",
    "        x_train = X[train_index]\n",
    "        x_test = X[test_index]\n",
    "        y_train = y[train_index]\n",
    "        y_test = y[test_index]\n",
    "    \n",
    "        #list with names in the test set and their type, again for easier use later\n",
    "        test_names = list(names.iloc[test_index])\n",
    "        test_name_types = list(types.iloc[test_index])\n",
    "    \n",
    "        #fit the model on this fold's training set\n",
    "        model = gs_rf.fit(x_train,y_train)\n",
    "        #predict the score for the test set (name)\n",
    "        prediction = gs_rf.predict(x_test)\n",
    "        #get the predicted probabilities as well\n",
    "        prob_pred = gs_rf.predict_proba(x_test)\n",
    "\n",
    "        #append the name, its type, its feature representation, its actual rating, \n",
    "        #and its predicted rating and prediction probability into the predictions list\n",
    "        for i in range(len(x_test)):\n",
    "            predictions.append((test_names[i],test_name_types[i],x_test[i],y_test[i],prediction[i], prob_pred[i]))\n",
    "            \n",
    "        #append the current (LOOCV) fold's best model's (according to GridSearch) feature importances into the importances list   \n",
    "        importances.append(model.best_estimator_.feature_importances_)\n",
    "        \n",
    "    return predictions, importances"
   ]
  },
  {
   "cell_type": "code",
   "execution_count": 73,
   "metadata": {},
   "outputs": [],
   "source": [
    "def train_LRC(input_df, feature_col, attribute_col):\n",
    "    \n",
    "    #cross-validation and model instantiations\n",
    "    loo = LeaveOneOut()\n",
    "    logreg = LogisticRegression(max_iter=3000)\n",
    "    \n",
    "    param_grid = {\"C\" : [0.001, 0.01, 0.1, 1, 10, 100]}\n",
    "    gs_logreg = GridSearchCV(logreg, param_grid, cv=KFold(3, random_state=7))\n",
    "    \n",
    "    #getting the data to be split\n",
    "    xlist = [vector for vector in input_df[feature_col]]\n",
    "    xarray = np.array(xlist, dtype=int)    \n",
    "\n",
    "    X = xarray\n",
    "    y = np.array(input_df[attribute_col],dtype=int)   \n",
    "    \n",
    "    #getting the names and their types of ease of use later on\n",
    "    names = input_df[\"name\"]\n",
    "    types = input_df[\"name_type\"]\n",
    "    \n",
    "\n",
    "    #list for the prediction of each name's rating\n",
    "    predictions = []\n",
    "    #feature importances list to store each fold's feature importances\n",
    "    importances = []\n",
    "    \n",
    "    #do the cross validation split (test is going to be only one name and train is going to be every other name but that)\n",
    "    for train_index, test_index in loo.split(X):\n",
    "        x_train = X[train_index]\n",
    "        x_test = X[test_index]\n",
    "        y_train = y[train_index]\n",
    "        y_test = y[test_index]\n",
    "    \n",
    "        #list with names in the test set and their type, again for easier use later\n",
    "        test_names = list(names.iloc[test_index])\n",
    "        test_name_types = list(types.iloc[test_index])\n",
    "    \n",
    "        #fit the model on this fold's training set\n",
    "        model = gs_logreg.fit(x_train,y_train)\n",
    "        #predict the score for the test set (name)\n",
    "        prediction = gs_logreg.predict(x_test)\n",
    "        prob_pred = gs_logreg.predict_proba(x_test)\n",
    "\n",
    "        #append the name, its type, its feature representation, its actual rating, and its predicted rating into the predictions list\n",
    "        for i in range(len(x_test)):\n",
    "            predictions.append((test_names[i],test_name_types[i],x_test[i],y_test[i],prediction[i], prob_pred[i]))\n",
    "            \n",
    "        weights = model.best_estimator_.coef_[0]\n",
    "            \n",
    "        #append the current fold's best model's (according to GridSearch) feature importances into the importances list   \n",
    "        importances.append(pow(math.e, weights))\n",
    "        \n",
    "    return predictions, importances"
   ]
  },
  {
   "cell_type": "code",
   "execution_count": 18,
   "metadata": {},
   "outputs": [],
   "source": [
    "def metrics_and_eval(predictions):\n",
    "    \n",
    "    \n",
    "    cm = confusion_matrix([predictions[i][3] for i in range(len(predictions))], [predictions[i][4] for i in range(len(predictions))])\n",
    "    precision = precision_score([predictions[i][3] for i in range(len(predictions))], [predictions[i][4] for i in range(len(predictions))], average = None)\n",
    "    recall= recall_score([predictions[i][3] for i in range(len(predictions))], [predictions[i][4] for i in range(len(predictions))], average = None)\n",
    "    accuracy = accuracy_score([predictions[i][3] for i in range(len(predictions))], [predictions[i][4] for i in range(len(predictions))])\n",
    "    \n",
    "    r2 = r2_score([predictions[i][3] for i in range(len(predictions))], [predictions[i][5][predictions[i][3]] for i in range(len(predictions))])\n",
    "    mae = mean_absolute_error([predictions[i][3] for i in range(len(predictions))], [predictions[i][5][predictions[i][3]] for i in range(len(predictions))])\n",
    "    mse = mean_squared_error([predictions[i][3] for i in range(len(predictions))], [predictions[i][5][predictions[i][3]] for i in range(len(predictions))])\n",
    "    med_ae = median_absolute_error([predictions[i][3] for i in range(len(predictions))], [predictions[i][5][predictions[i][3]] for i in range(len(predictions))])\n",
    "    \n",
    "    #-------------------------------------------------------------------------------------\n",
    "    \n",
    "    real_names_y, talking_names_y, madeup_names_y = [],[],[]\n",
    "    real_names_pred, talking_names_pred, madeup_names_pred = [],[],[]\n",
    "    \n",
    "    aes={\"real\":[], \"talking\":[], \"madeup\":[]}\n",
    "    \n",
    "    for i in range(len(predictions)):\n",
    "        if predictions[i][1] == \"real\":\n",
    "            real_names_y.append(predictions[i][3])\n",
    "            real_names_pred.append(predictions[i][4])\n",
    "            aes[\"real\"].append(abs(predictions[i][3] - predictions[i][5]))\n",
    "        if predictions[i][1] == \"talking\":\n",
    "            talking_names_y.append(predictions[i][3])\n",
    "            talking_names_pred.append(predictions[i][4])\n",
    "            aes[\"talking\"].append(abs(predictions[i][3] - predictions[i][5]))\n",
    "        if predictions[i][1] == \"madeup\":\n",
    "            madeup_names_y.append(predictions[i][3])\n",
    "            madeup_names_pred.append(predictions[i][4])\n",
    "            aes[\"madeup\"].append(abs(predictions[i][3] - predictions[i][5]))\n",
    "            \n",
    "    accuracy_per_nametype = {\"real\": accuracy_score(real_names_y, real_names_pred),\n",
    "                             \"talking\": accuracy_score(talking_names_y, talking_names_pred),\n",
    "                             \"madeup\": accuracy_score(talking_names_y, talking_names_pred)}\n",
    "    \n",
    "    avg_mae_per_nametype = {\"real\": np.mean(aes[\"real\"]),\n",
    "                            \"talking\": np.mean(aes[\"talking\"]) ,\n",
    "                            \"madeup\": np.mean(aes[\"madeup\"])}\n",
    "        \n",
    "    \n",
    "    return accuracy, precision, recall, cm, accuracy_per_nametype, avg_mae_per_nametype, r2, mae, mse, med_ae"
   ]
  },
  {
   "cell_type": "code",
   "execution_count": 99,
   "metadata": {},
   "outputs": [],
   "source": [
    "def map_prob(x,cra,crb,wrc,wrd):\n",
    "    return wrc + ((wrd - wrc) / (crb - cra)) * (x - cra)"
   ]
  },
  {
   "cell_type": "markdown",
   "metadata": {},
   "source": [
    "## Polarity"
   ]
  },
  {
   "cell_type": "code",
   "execution_count": 16,
   "metadata": {},
   "outputs": [],
   "source": [
    "pol_df = df.loc[df['polarity'].notnull(), [\"name\",  \"name_type\", \"polarity\", \"rating.mean_valence\", \"letter_vec\", \"phonological_vec\"]]\n",
    "pol_df.reset_index(drop=True, inplace=True)"
   ]
  },
  {
   "cell_type": "markdown",
   "metadata": {},
   "source": [
    "### Random Forest"
   ]
  },
  {
   "cell_type": "code",
   "execution_count": 19,
   "metadata": {},
   "outputs": [
    {
     "name": "stderr",
     "output_type": "stream",
     "text": [
      "C:\\Users\\gk200\\Anaconda3\\lib\\site-packages\\sklearn\\model_selection\\_split.py:293: FutureWarning: Setting a random_state has no effect since shuffle is False. This will raise an error in 0.24. You should leave random_state to its default (None), or set shuffle=True.\n",
      "  warnings.warn(\n"
     ]
    }
   ],
   "source": [
    "RFLF_pol = train_RFC(pol_df, \"letter_vec\", \"polarity\")\n",
    "RFLFPOL_results = metrics_and_eval(RFLF_pol[0])"
   ]
  },
  {
   "cell_type": "code",
   "execution_count": 22,
   "metadata": {},
   "outputs": [
    {
     "name": "stdout",
     "output_type": "stream",
     "text": [
      "Accuracy: \n",
      "0.5714285714285714\n",
      "Precision: \n",
      "[0.52173913 0.6       ]\n",
      "Recall: \n",
      "[0.42857143 0.68571429]\n",
      "Confusion matrix: \n",
      "[[12 16]\n",
      " [11 24]]\n",
      "Accuracy per nametype: \n",
      "{'real': 0.7, 'talking': 0.6, 'madeup': 0.6}\n",
      "\n",
      "\n",
      "Avg MAE per nametype:\n",
      "{'real': 0.5, 'talking': 0.5, 'madeup': 0.5}\n",
      "R2 score:\n",
      "0.13895263565422955\n",
      "MAE:\n",
      "0.4318904260468508\n",
      "MSE:\n",
      "0.2126042874927829\n",
      "Median AE:\n",
      "0.4011872972530989\n"
     ]
    }
   ],
   "source": [
    "print(\"Accuracy: \", RFLFPOL_results[0], \"Precision: \", RFLFPOL_results[1], \"Recall: \", RFLFPOL_results[2], \n",
    "      \"Confusion matrix: \", RFLFPOL_results[3], \"Accuracy per nametype: \", RFLFPOL_results[4], \"\\n\", \n",
    "      \"Avg MAE per nametype:\", RFLFPOL_results[5], \"R2 score:\", RFLFPOL_results[6], \"MAE:\", RFLFPOL_results[7], \n",
    "      \"MSE:\", RFLFPOL_results[8], \"Median AE:\", RFLFPOL_results[9], sep=\"\\n\")"
   ]
  },
  {
   "cell_type": "code",
   "execution_count": 21,
   "metadata": {},
   "outputs": [
    {
     "name": "stderr",
     "output_type": "stream",
     "text": [
      "C:\\Users\\gk200\\Anaconda3\\lib\\site-packages\\sklearn\\model_selection\\_split.py:293: FutureWarning: Setting a random_state has no effect since shuffle is False. This will raise an error in 0.24. You should leave random_state to its default (None), or set shuffle=True.\n",
      "  warnings.warn(\n"
     ]
    }
   ],
   "source": [
    "RFPF_pol = train_RFC(pol_df, \"phonological_vec\", \"polarity\")\n",
    "RFPFPOL_results = metrics_and_eval(RFPF_pol[0])"
   ]
  },
  {
   "cell_type": "code",
   "execution_count": 23,
   "metadata": {},
   "outputs": [
    {
     "name": "stdout",
     "output_type": "stream",
     "text": [
      "Accuracy: \n",
      "0.6031746031746031\n",
      "Precision: \n",
      "[0.55555556 0.63888889]\n",
      "Recall: \n",
      "[0.53571429 0.65714286]\n",
      "Confusion matrix: \n",
      "[[15 13]\n",
      " [12 23]]\n",
      "Accuracy per nametype: \n",
      "{'real': 0.55, 'talking': 0.7, 'madeup': 0.7}\n",
      "\n",
      "\n",
      "Avg MAE per nametype:\n",
      "{'real': 0.5, 'talking': 0.5, 'madeup': 0.5}\n",
      "R2 score:\n",
      "-0.07457990732246333\n",
      "MAE:\n",
      "0.4638098100106413\n",
      "MSE:\n",
      "0.26532837217838606\n",
      "Median AE:\n",
      "0.4315757162514129\n"
     ]
    }
   ],
   "source": [
    "print(\"Accuracy: \", RFPFPOL_results[0], \"Precision: \", RFPFPOL_results[1], \"Recall: \", RFPFPOL_results[2], \n",
    "      \"Confusion matrix: \", RFPFPOL_results[3], \"Accuracy per nametype: \", RFPFPOL_results[4], \"\\n\",\n",
    "      \"Avg MAE per nametype:\", RFPFPOL_results[5], \"R2 score:\", RFPFPOL_results[6], \"MAE:\", RFPFPOL_results[7], \n",
    "      \"MSE:\", RFPFPOL_results[8], \"Median AE:\", RFPFPOL_results[9], sep=\"\\n\")"
   ]
  },
  {
   "cell_type": "code",
   "execution_count": 25,
   "metadata": {},
   "outputs": [],
   "source": [
    "RFCLFPOL_pred = pd.DataFrame(RFLF_pol[0], columns=[\"Name\", \"Name Type\", \"Feature Rep\", \"Author Intent\", \"Prediction\", \"Pred Probability\"])\n",
    "RFCLFPOL_pred[\"Features\"] = [\"Letter\" for i in range(len(RFLF_pol[0]))]\n",
    "\n",
    "RFCPFPOL_pred = pd.DataFrame(RFPF_pol[0], columns=[\"Name\", \"Name Type\", \"Feature Rep\", \"Author Intent\", \"Prediction\",  \"Pred Probability\"])\n",
    "RFCPFPOL_pred[\"Features\"] = [\"Phonological\" for i in range(len(RFPF_pol[0]))]\n",
    "\n",
    "RFCPOL_pred = RFCLFPOL_pred.append(RFCPFPOL_pred)"
   ]
  },
  {
   "cell_type": "code",
   "execution_count": 26,
   "metadata": {},
   "outputs": [
    {
     "name": "stderr",
     "output_type": "stream",
     "text": [
      "<ipython-input-26-6eee74cac6a4>:4: UserWarning: Matplotlib is currently using module://ipykernel.pylab.backend_inline, which is a non-GUI backend, so cannot show the figure.\n",
      "  fig.show()\n"
     ]
    },
    {
     "data": {
      "image/png": "[encoded data removed]",
      "text/plain": [
       "<Figure size 1080x360 with 4 Axes>"
      ]
     },
     "metadata": {
      "needs_background": "light"
     },
     "output_type": "display_data"
    }
   ],
   "source": [
    "fig, ax =plt.subplots(1,2, figsize=(15,5))\n",
    "sns.heatmap(RFLFPOL_results[3], annot=True, ax=ax[0])\n",
    "sns.heatmap(RFPFPOL_results[3], annot=True, ax=ax[1])\n",
    "fig.show()"
   ]
  },
  {
   "cell_type": "code",
   "execution_count": 28,
   "metadata": {},
   "outputs": [
    {
     "data": {
      "image/png": "[encoded data removed]",
      "text/plain": [
       "<Figure size 1080x360 with 2 Axes>"
      ]
     },
     "metadata": {
      "needs_background": "light"
     },
     "output_type": "display_data"
    }
   ],
   "source": [
    "importances_lf = pd.DataFrame(data=RFLF_pol[1], columns=feature_names_lf)\n",
    "importances_lf[\"Features\"] = [\"Letter\" for i in range(len(importances_lf))]\n",
    "\n",
    "importances_pf = pd.DataFrame(data=RFPF_pol[1], columns=feature_names_pf)\n",
    "importances_pf[\"Features\"] = [\"Phonological\" for i in range(len(importances_pf))]\n",
    "\n",
    "fig, axes = plt.subplots(1,2, figsize=(15,5), sharey=True)\n",
    "sns.barplot(ax=axes[0],data=importances_lf , ci=\"sd\", color=\"green\")\n",
    "sns.barplot(ax=axes[1],data=importances_pf , ci=\"sd\", color=\"green\")\n",
    "\n",
    "fig.suptitle(\"Feature importances using MDI\")\n",
    "axes[0].set_xlabel(\"Letter Features\")\n",
    "axes[1].set_xlabel(\"Phonological Features\")\n",
    "axes[0].set_ylabel(\"Mean decrease in impurity\")\n",
    "\n",
    "plt.xticks(rotation=90)\n",
    "fig.tight_layout()\n",
    "fig.subplots_adjust(top=0.88)"
   ]
  },
  {
   "cell_type": "markdown",
   "metadata": {},
   "source": [
    "### Logistic Regression"
   ]
  },
  {
   "cell_type": "code",
   "execution_count": 74,
   "metadata": {},
   "outputs": [
    {
     "name": "stderr",
     "output_type": "stream",
     "text": [
      "C:\\Users\\gk200\\Anaconda3\\lib\\site-packages\\sklearn\\model_selection\\_split.py:293: FutureWarning: Setting a random_state has no effect since shuffle is False. This will raise an error in 0.24. You should leave random_state to its default (None), or set shuffle=True.\n",
      "  warnings.warn(\n"
     ]
    }
   ],
   "source": [
    "LRLF_pol = train_LRC(pol_df, \"letter_vec\", \"polarity\")\n",
    "LRLFPOL_results = metrics_and_eval(LRLF_pol[0])"
   ]
  },
  {
   "cell_type": "code",
   "execution_count": 75,
   "metadata": {},
   "outputs": [
    {
     "name": "stdout",
     "output_type": "stream",
     "text": [
      "Accuracy: \n",
      "0.5555555555555556\n",
      "Precision: \n",
      "[0.5 0.6]\n",
      "Recall: \n",
      "[0.5 0.6]\n",
      "Confusion matrix: \n",
      "[[14 14]\n",
      " [14 21]]\n",
      "Accuracy per nametype: \n",
      "{'real': 0.7, 'talking': 0.5, 'madeup': 0.5}\n",
      "\n",
      "\n",
      "Avg MAE per nametype:\n",
      "{'real': 0.5, 'talking': 0.5, 'madeup': 0.5}\n",
      "R2 score:\n",
      "-0.3520647253237372\n",
      "MAE:\n",
      "0.4573460783968499\n",
      "MSE:\n",
      "0.33384314205524385\n",
      "Median AE:\n",
      "0.41345503300690645\n"
     ]
    }
   ],
   "source": [
    "print(\"Accuracy: \", LRLFPOL_results[0], \"Precision: \", LRLFPOL_results[1], \"Recall: \", LRLFPOL_results[2], \n",
    "      \"Confusion matrix: \", LRLFPOL_results[3], \"Accuracy per nametype: \", LRLFPOL_results[4], \"\\n\", \n",
    "      \"Avg MAE per nametype:\", LRLFPOL_results[5], \"R2 score:\", LRLFPOL_results[6], \"MAE:\", LRLFPOL_results[7], \n",
    "      \"MSE:\", LRLFPOL_results[8], \"Median AE:\", LRLFPOL_results[9], sep=\"\\n\")"
   ]
  },
  {
   "cell_type": "code",
   "execution_count": 76,
   "metadata": {},
   "outputs": [
    {
     "name": "stderr",
     "output_type": "stream",
     "text": [
      "C:\\Users\\gk200\\Anaconda3\\lib\\site-packages\\sklearn\\model_selection\\_split.py:293: FutureWarning: Setting a random_state has no effect since shuffle is False. This will raise an error in 0.24. You should leave random_state to its default (None), or set shuffle=True.\n",
      "  warnings.warn(\n"
     ]
    }
   ],
   "source": [
    "LRPF_pol = train_LRC(pol_df, \"phonological_vec\", \"polarity\")\n",
    "LRPFPOL_results = metrics_and_eval(LRPF_pol[0])"
   ]
  },
  {
   "cell_type": "code",
   "execution_count": 77,
   "metadata": {},
   "outputs": [
    {
     "name": "stdout",
     "output_type": "stream",
     "text": [
      "Accuracy: \n",
      "0.49206349206349204\n",
      "Precision: \n",
      "[0.42857143 0.54285714]\n",
      "Recall: \n",
      "[0.42857143 0.54285714]\n",
      "Confusion matrix: \n",
      "[[12 16]\n",
      " [16 19]]\n",
      "Accuracy per nametype: \n",
      "{'real': 0.45, 'talking': 0.7, 'madeup': 0.7}\n",
      "\n",
      "\n",
      "Avg MAE per nametype:\n",
      "{'real': 0.5, 'talking': 0.5, 'madeup': 0.5}\n",
      "R2 score:\n",
      "-0.43225204865429445\n",
      "MAE:\n",
      "0.4622930755315421\n",
      "MSE:\n",
      "0.3536424811492086\n",
      "Median AE:\n",
      "0.3865369499843173\n"
     ]
    }
   ],
   "source": [
    "print(\"Accuracy: \", LRPFPOL_results[0], \"Precision: \", LRPFPOL_results[1], \"Recall: \", LRPFPOL_results[2], \n",
    "      \"Confusion matrix: \", LRPFPOL_results[3], \"Accuracy per nametype: \", LRPFPOL_results[4], \"\\n\", \n",
    "      \"Avg MAE per nametype:\", LRPFPOL_results[5], \"R2 score:\", LRPFPOL_results[6], \"MAE:\", LRPFPOL_results[7], \n",
    "      \"MSE:\", LRPFPOL_results[8], \"Median AE:\", LRPFPOL_results[9], sep=\"\\n\")"
   ]
  },
  {
   "cell_type": "code",
   "execution_count": 78,
   "metadata": {},
   "outputs": [],
   "source": [
    "LRCLFPOL_pred = pd.DataFrame(LRLF_pol[0], columns=[\"Name\", \"Name Type\", \"Feature Rep\", \"Author Intent\", \"Prediction\", \"Pred Probability\"])\n",
    "LRCLFPOL_pred[\"Features\"] = [\"Letter\" for i in range(len(LRLF_pol[0]))]\n",
    "\n",
    "LRCPFPOL_pred = pd.DataFrame(LRPF_pol[0], columns=[\"Name\", \"Name Type\", \"Feature Rep\", \"Author Intent\", \"Prediction\",  \"Pred Probability\"])\n",
    "LRCPFPOL_pred[\"Features\"] = [\"Phonological\" for i in range(len(LRPF_pol[0]))]\n",
    "\n",
    "LRCPOL_pred = LRCLFPOL_pred.append(LRCPFPOL_pred)"
   ]
  },
  {
   "cell_type": "code",
   "execution_count": 79,
   "metadata": {},
   "outputs": [
    {
     "name": "stderr",
     "output_type": "stream",
     "text": [
      "<ipython-input-79-464e44ca25cd>:4: UserWarning: Matplotlib is currently using module://ipykernel.pylab.backend_inline, which is a non-GUI backend, so cannot show the figure.\n",
      "  fig.show()\n"
     ]
    },
    {
     "data": {
      "image/png": "[encoded data removed]",
      "text/plain": [
       "<Figure size 1080x360 with 4 Axes>"
      ]
     },
     "metadata": {
      "needs_background": "light"
     },
     "output_type": "display_data"
    }
   ],
   "source": [
    "fig, ax =plt.subplots(1,2, figsize=(15,5))\n",
    "sns.heatmap(LRLFPOL_results[3], annot=True, ax=ax[0])\n",
    "sns.heatmap(LRPFPOL_results[3], annot=True, ax=ax[1])\n",
    "fig.show()"
   ]
  },
  {
   "cell_type": "code",
   "execution_count": 80,
   "metadata": {},
   "outputs": [
    {
     "data": {
      "image/png": "[encoded data removed]",
      "text/plain": [
       "<Figure size 1080x360 with 2 Axes>"
      ]
     },
     "metadata": {
      "needs_background": "light"
     },
     "output_type": "display_data"
    }
   ],
   "source": [
    "importances_lf = pd.DataFrame(data=LRLF_pol[1], columns=feature_names_lf)\n",
    "importances_lf[\"Features\"] = [\"Letter\" for i in range(len(importances_lf))]\n",
    "\n",
    "importances_pf = pd.DataFrame(data=LRPF_pol[1], columns=feature_names_pf)\n",
    "importances_pf[\"Features\"] = [\"Phonological\" for i in range(len(importances_pf))]\n",
    "\n",
    "fig, axes = plt.subplots(1,2, figsize=(15,5), sharey=True)\n",
    "sns.barplot(ax=axes[0],data=importances_lf , ci=\"sd\", color=\"green\")\n",
    "sns.barplot(ax=axes[1],data=importances_pf , ci=\"sd\", color=\"green\")\n",
    "\n",
    "fig.suptitle(\"Feature importances\")\n",
    "axes[0].set_xlabel(\"Letter Features\")\n",
    "axes[1].set_xlabel(\"Phonological Features\")\n",
    "axes[0].set_ylabel(\"Importance (e^w)\")\n",
    "\n",
    "plt.xticks(rotation=90)\n",
    "fig.tight_layout()\n",
    "fig.subplots_adjust(top=0.88)"
   ]
  },
  {
   "cell_type": "markdown",
   "metadata": {},
   "source": [
    "### Gender"
   ]
  },
  {
   "cell_type": "code",
   "execution_count": 37,
   "metadata": {},
   "outputs": [],
   "source": [
    "gen_df = df.loc[df['gender'].notnull(), [\"name\", \"name_type\",\"gender\", \"rating.mean_gender\", \"letter_vec\", \"phonological_vec\"]]\n",
    "gen_df.reset_index(drop=True, inplace=True)"
   ]
  },
  {
   "cell_type": "markdown",
   "metadata": {},
   "source": [
    "### Random Forest"
   ]
  },
  {
   "cell_type": "code",
   "execution_count": 38,
   "metadata": {},
   "outputs": [
    {
     "name": "stderr",
     "output_type": "stream",
     "text": [
      "C:\\Users\\gk200\\Anaconda3\\lib\\site-packages\\sklearn\\model_selection\\_split.py:293: FutureWarning: Setting a random_state has no effect since shuffle is False. This will raise an error in 0.24. You should leave random_state to its default (None), or set shuffle=True.\n",
      "  warnings.warn(\n"
     ]
    }
   ],
   "source": [
    "RFLF_gen = train_RFC(gen_df, \"letter_vec\", \"gender\")\n",
    "RFLFGEN_results = metrics_and_eval(RFLF_gen[0])"
   ]
  },
  {
   "cell_type": "code",
   "execution_count": 39,
   "metadata": {},
   "outputs": [
    {
     "name": "stdout",
     "output_type": "stream",
     "text": [
      "Accuracy: \n",
      "0.6201117318435754\n",
      "Precision: \n",
      "[0.6091954  0.63043478]\n",
      "Recall: \n",
      "[0.6091954  0.63043478]\n",
      "Confusion matrix: \n",
      "[[53 34]\n",
      " [34 58]]\n",
      "Accuracy per nametype: \n",
      "{'real': 0.5862068965517241, 'talking': 0.6557377049180327, 'madeup': 0.6557377049180327}\n",
      "\n",
      "\n",
      "Avg MAE per nametype:\n",
      "{'real': 0.5, 'talking': 0.5, 'madeup': 0.5}\n",
      "R2 score:\n",
      "-0.03796633670653149\n",
      "MAE:\n",
      "0.4810404278678444\n",
      "MSE:\n",
      "0.25928911578911645\n",
      "Median AE:\n",
      "0.49715311851917887\n"
     ]
    }
   ],
   "source": [
    "print(\"Accuracy: \", RFLFGEN_results[0], \"Precision: \", RFLFGEN_results[1], \"Recall: \", RFLFGEN_results[2], \n",
    "      \"Confusion matrix: \", RFLFGEN_results[3], \"Accuracy per nametype: \", RFLFGEN_results[4], \"\\n\", \n",
    "      \"Avg MAE per nametype:\", RFLFGEN_results[5], \"R2 score:\", RFLFGEN_results[6], \"MAE:\", RFLFGEN_results[7], \n",
    "      \"MSE:\", RFLFGEN_results[8], \"Median AE:\", RFLFGEN_results[9], sep=\"\\n\")"
   ]
  },
  {
   "cell_type": "code",
   "execution_count": 40,
   "metadata": {},
   "outputs": [
    {
     "name": "stderr",
     "output_type": "stream",
     "text": [
      "C:\\Users\\gk200\\Anaconda3\\lib\\site-packages\\sklearn\\model_selection\\_split.py:293: FutureWarning: Setting a random_state has no effect since shuffle is False. This will raise an error in 0.24. You should leave random_state to its default (None), or set shuffle=True.\n",
      "  warnings.warn(\n"
     ]
    }
   ],
   "source": [
    "RFPF_gen = train_RFC(gen_df, \"phonological_vec\", \"gender\")\n",
    "RFPFGEN_results = metrics_and_eval(RFPF_gen[0])"
   ]
  },
  {
   "cell_type": "code",
   "execution_count": 42,
   "metadata": {},
   "outputs": [
    {
     "name": "stdout",
     "output_type": "stream",
     "text": [
      "Accuracy: \n",
      "0.5363128491620112\n",
      "Precision: \n",
      "[0.52325581 0.5483871 ]\n",
      "Recall: \n",
      "[0.51724138 0.55434783]\n",
      "Confusion matrix: \n",
      "[[45 42]\n",
      " [41 51]]\n",
      "Accuracy per nametype: \n",
      "{'real': 0.5689655172413793, 'talking': 0.4918032786885246, 'madeup': 0.4918032786885246}\n",
      "\n",
      "\n",
      "Avg MAE per nametype:\n",
      "{'real': 0.5, 'talking': 0.5, 'madeup': 0.5}\n",
      "R2 score:\n",
      "-0.09446810356152668\n",
      "MAE:\n",
      "0.49067997987552925\n",
      "MSE:\n",
      "0.27340353612266977\n",
      "Median AE:\n",
      "0.48369245716164844\n"
     ]
    }
   ],
   "source": [
    "print(\"Accuracy: \", RFPFGEN_results[0], \"Precision: \", RFPFGEN_results[1], \"Recall: \", RFPFGEN_results[2], \n",
    "      \"Confusion matrix: \", RFPFGEN_results[3], \"Accuracy per nametype: \", RFPFGEN_results[4], \"\\n\", \n",
    "      \"Avg MAE per nametype:\", RFPFGEN_results[5], \"R2 score:\", RFPFGEN_results[6], \"MAE:\", RFPFGEN_results[7], \n",
    "      \"MSE:\", RFPFGEN_results[8], \"Median AE:\", RFPFGEN_results[9], sep=\"\\n\")"
   ]
  },
  {
   "cell_type": "code",
   "execution_count": 43,
   "metadata": {},
   "outputs": [],
   "source": [
    "RFCLFGEN_pred = pd.DataFrame(RFLF_gen[0], columns=[\"Name\", \"Name Type\", \"Feature Rep\", \"Author Intent\", \"Prediction\", \"Pred Probability\"])\n",
    "RFCLFGEN_pred[\"Features\"] = [\"Letter\" for i in range(len(RFLF_gen[0]))]\n",
    "\n",
    "RFCPFGEN_pred = pd.DataFrame(RFPF_gen[0], columns=[\"Name\", \"Name Type\", \"Feature Rep\", \"Author Intent\", \"Prediction\",  \"Pred Probability\"])\n",
    "RFCPFGEN_pred[\"Features\"] = [\"Phonological\" for i in range(len(RFPF_gen[0]))]\n",
    "\n",
    "RFCGEN_pred = RFCLFGEN_pred.append(RFCPFGEN_pred)"
   ]
  },
  {
   "cell_type": "code",
   "execution_count": 44,
   "metadata": {},
   "outputs": [
    {
     "name": "stderr",
     "output_type": "stream",
     "text": [
      "<ipython-input-44-343f7b12ed70>:4: UserWarning: Matplotlib is currently using module://ipykernel.pylab.backend_inline, which is a non-GUI backend, so cannot show the figure.\n",
      "  fig.show()\n"
     ]
    },
    {
     "data": {
      "image/png": "[encoded data removed]",
      "text/plain": [
       "<Figure size 1080x360 with 4 Axes>"
      ]
     },
     "metadata": {
      "needs_background": "light"
     },
     "output_type": "display_data"
    }
   ],
   "source": [
    "fig, ax =plt.subplots(1,2, figsize=(15,5))\n",
    "sns.heatmap(RFLFGEN_results[3], annot=True, ax=ax[0])\n",
    "sns.heatmap(RFPFGEN_results[3], annot=True, ax=ax[1])\n",
    "fig.show()"
   ]
  },
  {
   "cell_type": "code",
   "execution_count": 45,
   "metadata": {},
   "outputs": [
    {
     "data": {
      "image/png": "[encoded data removed]",
      "text/plain": [
       "<Figure size 1080x360 with 2 Axes>"
      ]
     },
     "metadata": {
      "needs_background": "light"
     },
     "output_type": "display_data"
    }
   ],
   "source": [
    "importances_lf = pd.DataFrame(data=RFLF_gen[1], columns=feature_names_lf)\n",
    "importances_lf[\"Features\"] = [\"Letter\" for i in range(len(importances_lf))]\n",
    "\n",
    "importances_pf = pd.DataFrame(data=RFPF_gen[1], columns=feature_names_pf)\n",
    "importances_pf[\"Features\"] = [\"Phonological\" for i in range(len(importances_pf))]\n",
    "\n",
    "fig, axes = plt.subplots(1,2, figsize=(15,5), sharey=True)\n",
    "sns.barplot(ax=axes[0],data=importances_lf , ci=\"sd\", color=\"green\")\n",
    "sns.barplot(ax=axes[1],data=importances_pf , ci=\"sd\", color=\"green\")\n",
    "\n",
    "fig.suptitle(\"Feature importances using MDI\")\n",
    "axes[0].set_xlabel(\"Letter Features\")\n",
    "axes[1].set_xlabel(\"Phonological Features\")\n",
    "axes[0].set_ylabel(\"Mean decrease in impurity\")\n",
    "\n",
    "plt.xticks(rotation=90)\n",
    "fig.tight_layout()\n",
    "fig.subplots_adjust(top=0.88)"
   ]
  },
  {
   "cell_type": "markdown",
   "metadata": {},
   "source": [
    "### Logistic Regression"
   ]
  },
  {
   "cell_type": "code",
   "execution_count": 81,
   "metadata": {},
   "outputs": [
    {
     "name": "stderr",
     "output_type": "stream",
     "text": [
      "C:\\Users\\gk200\\Anaconda3\\lib\\site-packages\\sklearn\\model_selection\\_split.py:293: FutureWarning: Setting a random_state has no effect since shuffle is False. This will raise an error in 0.24. You should leave random_state to its default (None), or set shuffle=True.\n",
      "  warnings.warn(\n"
     ]
    }
   ],
   "source": [
    "LRLF_gen = train_LRC(gen_df, \"letter_vec\", \"gender\")\n",
    "LRLFGEN_results = metrics_and_eval(LRLF_gen[0])"
   ]
  },
  {
   "cell_type": "code",
   "execution_count": 82,
   "metadata": {},
   "outputs": [
    {
     "name": "stdout",
     "output_type": "stream",
     "text": [
      "Accuracy: \n",
      "0.5977653631284916\n",
      "Precision: \n",
      "[0.59259259 0.60204082]\n",
      "Recall: \n",
      "[0.55172414 0.64130435]\n",
      "Confusion matrix: \n",
      "[[48 39]\n",
      " [33 59]]\n",
      "Accuracy per nametype: \n",
      "{'real': 0.6379310344827587, 'talking': 0.5409836065573771, 'madeup': 0.5409836065573771}\n",
      "\n",
      "\n",
      "Avg MAE per nametype:\n",
      "{'real': 0.5, 'talking': 0.5, 'madeup': 0.5}\n",
      "R2 score:\n",
      "-0.18048243939414976\n",
      "MAE:\n",
      "0.47872642263006937\n",
      "MSE:\n",
      "0.29489034190289865\n",
      "Median AE:\n",
      "0.474931347683643\n"
     ]
    }
   ],
   "source": [
    "print(\"Accuracy: \", LRLFGEN_results[0], \"Precision: \", LRLFGEN_results[1], \"Recall: \", LRLFGEN_results[2], \n",
    "      \"Confusion matrix: \", LRLFGEN_results[3], \"Accuracy per nametype: \", LRLFGEN_results[4], \"\\n\", \n",
    "      \"Avg MAE per nametype:\", LRLFGEN_results[5], \"R2 score:\", LRLFGEN_results[6], \"MAE:\", LRLFGEN_results[7], \n",
    "      \"MSE:\", LRLFGEN_results[8], \"Median AE:\", LRLFGEN_results[9], sep=\"\\n\")"
   ]
  },
  {
   "cell_type": "code",
   "execution_count": 83,
   "metadata": {},
   "outputs": [
    {
     "name": "stderr",
     "output_type": "stream",
     "text": [
      "C:\\Users\\gk200\\Anaconda3\\lib\\site-packages\\sklearn\\model_selection\\_split.py:293: FutureWarning: Setting a random_state has no effect since shuffle is False. This will raise an error in 0.24. You should leave random_state to its default (None), or set shuffle=True.\n",
      "  warnings.warn(\n"
     ]
    }
   ],
   "source": [
    "LRPF_gen = train_LRC(gen_df, \"phonological_vec\", \"gender\")\n",
    "LRPFGEN_results = metrics_and_eval(LRPF_gen[0])"
   ]
  },
  {
   "cell_type": "code",
   "execution_count": 84,
   "metadata": {},
   "outputs": [
    {
     "name": "stdout",
     "output_type": "stream",
     "text": [
      "Accuracy: \n",
      "0.5642458100558659\n",
      "Precision: \n",
      "[0.55696203 0.57      ]\n",
      "Recall: \n",
      "[0.50574713 0.61956522]\n",
      "Confusion matrix: \n",
      "[[44 43]\n",
      " [35 57]]\n",
      "Accuracy per nametype: \n",
      "{'real': 0.5517241379310345, 'talking': 0.5901639344262295, 'madeup': 0.5901639344262295}\n",
      "\n",
      "\n",
      "Avg MAE per nametype:\n",
      "{'real': 0.5, 'talking': 0.5, 'madeup': 0.5}\n",
      "R2 score:\n",
      "0.034109105122247185\n",
      "MAE:\n",
      "0.4862070725082474\n",
      "MSE:\n",
      "0.2412843145532766\n",
      "Median AE:\n",
      "0.49475597676996863\n"
     ]
    }
   ],
   "source": [
    "print(\"Accuracy: \", LRPFGEN_results[0], \"Precision: \", LRPFGEN_results[1], \"Recall: \", LRPFGEN_results[2], \n",
    "      \"Confusion matrix: \", LRPFGEN_results[3], \"Accuracy per nametype: \", LRPFGEN_results[4], \"\\n\", \n",
    "      \"Avg MAE per nametype:\", LRPFGEN_results[5], \"R2 score:\", LRPFGEN_results[6], \"MAE:\", LRPFGEN_results[7], \n",
    "      \"MSE:\", LRPFGEN_results[8], \"Median AE:\", LRPFGEN_results[9], sep=\"\\n\")"
   ]
  },
  {
   "cell_type": "code",
   "execution_count": 85,
   "metadata": {},
   "outputs": [],
   "source": [
    "LRCLFGEN_pred = pd.DataFrame(LRLF_gen[0], columns=[\"Name\", \"Name Type\", \"Feature Rep\", \"Author Intent\", \"Prediction\", \"Pred Probability\"])\n",
    "LRCLFGEN_pred[\"Features\"] = [\"Letter\" for i in range(len(LRLF_gen[0]))]\n",
    "\n",
    "LRCPFGEN_pred = pd.DataFrame(LRPF_gen[0], columns=[\"Name\", \"Name Type\", \"Feature Rep\", \"Author Intent\", \"Prediction\",  \"Pred Probability\"])\n",
    "LRCPFGEN_pred[\"Features\"] = [\"Phonological\" for i in range(len(LRPF_gen[0]))]\n",
    "\n",
    "LRCGEN_pred = LRCLFGEN_pred.append(LRCPFGEN_pred)"
   ]
  },
  {
   "cell_type": "code",
   "execution_count": 86,
   "metadata": {},
   "outputs": [
    {
     "name": "stderr",
     "output_type": "stream",
     "text": [
      "<ipython-input-86-3ab24d463f08>:4: UserWarning: Matplotlib is currently using module://ipykernel.pylab.backend_inline, which is a non-GUI backend, so cannot show the figure.\n",
      "  fig.show()\n"
     ]
    },
    {
     "data": {
      "image/png": "[encoded data removed]",
      "text/plain": [
       "<Figure size 1080x360 with 4 Axes>"
      ]
     },
     "metadata": {
      "needs_background": "light"
     },
     "output_type": "display_data"
    }
   ],
   "source": [
    "fig, ax =plt.subplots(1,2, figsize=(15,5))\n",
    "sns.heatmap(LRLFGEN_results[3], annot=True, ax=ax[0])\n",
    "sns.heatmap(LRPFGEN_results[3], annot=True, ax=ax[1])\n",
    "fig.show()"
   ]
  },
  {
   "cell_type": "code",
   "execution_count": 87,
   "metadata": {},
   "outputs": [
    {
     "data": {
      "image/png": "[encoded data removed]",
      "text/plain": [
       "<Figure size 1080x360 with 2 Axes>"
      ]
     },
     "metadata": {
      "needs_background": "light"
     },
     "output_type": "display_data"
    }
   ],
   "source": [
    "importances_lf = pd.DataFrame(data=LRLF_gen[1], columns=feature_names_lf)\n",
    "importances_lf[\"Features\"] = [\"Letter\" for i in range(len(importances_lf))]\n",
    "\n",
    "importances_pf = pd.DataFrame(data=LRPF_gen[1], columns=feature_names_pf)\n",
    "importances_pf[\"Features\"] = [\"Phonological\" for i in range(len(importances_pf))]\n",
    "\n",
    "fig, axes = plt.subplots(1,2, figsize=(15,5), sharey=True)\n",
    "sns.barplot(ax=axes[0],data=importances_lf , ci=\"sd\", color=\"green\")\n",
    "sns.barplot(ax=axes[1],data=importances_pf , ci=\"sd\", color=\"green\")\n",
    "\n",
    "fig.suptitle(\"Feature importances\")\n",
    "axes[0].set_xlabel(\"Letter Features\")\n",
    "axes[1].set_xlabel(\"Phonological Features\")\n",
    "axes[0].set_ylabel(\"Importance (e^w)\")\n",
    "\n",
    "plt.xticks(rotation=90)\n",
    "fig.tight_layout()\n",
    "fig.subplots_adjust(top=0.88)"
   ]
  },
  {
   "cell_type": "markdown",
   "metadata": {},
   "source": [
    "### Age"
   ]
  },
  {
   "cell_type": "code",
   "execution_count": 53,
   "metadata": {},
   "outputs": [],
   "source": [
    "age_df = df.loc[df['age'].notnull(), [\"name\", \"name_type\", \"age\", \"rating.mean_age\", \"letter_vec\", \"phonological_vec\"]]\n",
    "age_df.reset_index(drop=True, inplace=True)"
   ]
  },
  {
   "cell_type": "markdown",
   "metadata": {},
   "source": [
    "### Random Forest"
   ]
  },
  {
   "cell_type": "code",
   "execution_count": 54,
   "metadata": {},
   "outputs": [
    {
     "name": "stderr",
     "output_type": "stream",
     "text": [
      "C:\\Users\\gk200\\Anaconda3\\lib\\site-packages\\sklearn\\model_selection\\_split.py:293: FutureWarning: Setting a random_state has no effect since shuffle is False. This will raise an error in 0.24. You should leave random_state to its default (None), or set shuffle=True.\n",
      "  warnings.warn(\n"
     ]
    }
   ],
   "source": [
    "RFLF_age = train_RFC(age_df, \"letter_vec\", \"age\")\n",
    "RFLFAGE_results = metrics_and_eval(RFLF_age[0])"
   ]
  },
  {
   "cell_type": "code",
   "execution_count": 55,
   "metadata": {},
   "outputs": [
    {
     "name": "stdout",
     "output_type": "stream",
     "text": [
      "Accuracy: \n",
      "0.4957983193277311\n",
      "Precision: \n",
      "[0.48888889 0.5       ]\n",
      "Recall: \n",
      "[0.37288136 0.61666667]\n",
      "Confusion matrix: \n",
      "[[22 37]\n",
      " [23 37]]\n",
      "Accuracy per nametype: \n",
      "{'real': 0.5, 'talking': 0.4878048780487805, 'madeup': 0.4878048780487805}\n",
      "\n",
      "\n",
      "Avg MAE per nametype:\n",
      "{'real': 0.5, 'talking': 0.5, 'madeup': 0.5}\n",
      "R2 score:\n",
      "0.017966984320339496\n",
      "MAE:\n",
      "0.48082917742851095\n",
      "MSE:\n",
      "0.2454909169907491\n",
      "Median AE:\n",
      "0.4686237530816776\n"
     ]
    }
   ],
   "source": [
    "print(\"Accuracy: \", RFLFAGE_results[0], \"Precision: \", RFLFAGE_results[1], \"Recall: \", RFLFAGE_results[2], \n",
    "      \"Confusion matrix: \", RFLFAGE_results[3], \"Accuracy per nametype: \", RFLFAGE_results[4], \"\\n\", \n",
    "      \"Avg MAE per nametype:\", RFLFAGE_results[5], \"R2 score:\", RFLFAGE_results[6], \"MAE:\", RFLFAGE_results[7], \n",
    "      \"MSE:\", RFLFAGE_results[8], \"Median AE:\", RFLFAGE_results[9], sep=\"\\n\")"
   ]
  },
  {
   "cell_type": "code",
   "execution_count": 61,
   "metadata": {},
   "outputs": [
    {
     "name": "stderr",
     "output_type": "stream",
     "text": [
      "C:\\Users\\gk200\\Anaconda3\\lib\\site-packages\\sklearn\\model_selection\\_split.py:293: FutureWarning: Setting a random_state has no effect since shuffle is False. This will raise an error in 0.24. You should leave random_state to its default (None), or set shuffle=True.\n",
      "  warnings.warn(\n"
     ]
    }
   ],
   "source": [
    "RFPF_age = train_RFC(age_df, \"phonological_vec\", \"age\")\n",
    "RFPFAGE_results = metrics_and_eval(RFPF_age[0])"
   ]
  },
  {
   "cell_type": "code",
   "execution_count": 62,
   "metadata": {},
   "outputs": [
    {
     "name": "stdout",
     "output_type": "stream",
     "text": [
      "Accuracy: \n",
      "0.42016806722689076\n",
      "Precision: \n",
      "[0.41071429 0.42857143]\n",
      "Recall: \n",
      "[0.38983051 0.45      ]\n",
      "Confusion matrix: \n",
      "[[23 36]\n",
      " [33 27]]\n",
      "Accuracy per nametype: \n",
      "{'real': 0.45, 'talking': 0.43902439024390244, 'madeup': 0.43902439024390244}\n",
      "\n",
      "\n",
      "Avg MAE per nametype:\n",
      "{'real': 0.5, 'talking': 0.5, 'madeup': 0.5}\n",
      "R2 score:\n",
      "-0.017798462020930383\n",
      "MAE:\n",
      "0.4840205002736858\n",
      "MSE:\n",
      "0.25443164716856814\n",
      "Median AE:\n",
      "0.48679634857895726\n"
     ]
    }
   ],
   "source": [
    "print(\"Accuracy: \", RFPFAGE_results[0], \"Precision: \", RFPFAGE_results[1], \"Recall: \", RFPFAGE_results[2], \n",
    "      \"Confusion matrix: \", RFPFAGE_results[3], \"Accuracy per nametype: \", RFPFAGE_results[4], \"\\n\", \n",
    "      \"Avg MAE per nametype:\", RFPFAGE_results[5], \"R2 score:\", RFPFAGE_results[6], \"MAE:\", RFPFAGE_results[7], \n",
    "      \"MSE:\", RFPFAGE_results[8], \"Median AE:\", RFPFAGE_results[9], sep=\"\\n\")"
   ]
  },
  {
   "cell_type": "code",
   "execution_count": 63,
   "metadata": {},
   "outputs": [],
   "source": [
    "RFCLFAGE_pred = pd.DataFrame(RFLF_age[0], columns=[\"Name\", \"Name Type\", \"Feature Rep\", \"Author Intent\", \"Prediction\", \"Pred Probability\"])\n",
    "RFCLFAGE_pred[\"Features\"] = [\"Letter\" for i in range(len(RFLF_age[0]))]\n",
    "\n",
    "RFCPFAGE_pred = pd.DataFrame(RFPF_age[0], columns=[\"Name\", \"Name Type\", \"Feature Rep\", \"Author Intent\", \"Prediction\",  \"Pred Probability\"])\n",
    "RFCPFAGE_pred[\"Features\"] = [\"Phonological\" for i in range(len(RFPF_age[0]))]\n",
    "\n",
    "RFCAGE_pred = RFCLFAGE_pred.append(RFCPFAGE_pred)"
   ]
  },
  {
   "cell_type": "code",
   "execution_count": 64,
   "metadata": {},
   "outputs": [
    {
     "name": "stderr",
     "output_type": "stream",
     "text": [
      "<ipython-input-64-0bb8adf64a3b>:4: UserWarning: Matplotlib is currently using module://ipykernel.pylab.backend_inline, which is a non-GUI backend, so cannot show the figure.\n",
      "  fig.show()\n"
     ]
    },
    {
     "data": {
      "image/png": "[encoded data removed]",
      "text/plain": [
       "<Figure size 1080x360 with 4 Axes>"
      ]
     },
     "metadata": {
      "needs_background": "light"
     },
     "output_type": "display_data"
    }
   ],
   "source": [
    "fig, ax =plt.subplots(1,2, figsize=(15,5))\n",
    "sns.heatmap(RFLFAGE_results[3], annot=True, ax=ax[0])\n",
    "sns.heatmap(RFPFAGE_results[3], annot=True, ax=ax[1])\n",
    "fig.show()"
   ]
  },
  {
   "cell_type": "code",
   "execution_count": 65,
   "metadata": {},
   "outputs": [
    {
     "data": {
      "image/png": "[encoded data removed]",
      "text/plain": [
       "<Figure size 1080x360 with 2 Axes>"
      ]
     },
     "metadata": {
      "needs_background": "light"
     },
     "output_type": "display_data"
    }
   ],
   "source": [
    "importances_lf = pd.DataFrame(data=RFLF_age[1], columns=feature_names_lf)\n",
    "importances_lf[\"Features\"] = [\"Letter\" for i in range(len(importances_lf))]\n",
    "\n",
    "importances_pf = pd.DataFrame(data=RFPF_age[1], columns=feature_names_pf)\n",
    "importances_pf[\"Features\"] = [\"Phonological\" for i in range(len(importances_pf))]\n",
    "\n",
    "fig, axes = plt.subplots(1,2, figsize=(15,5), sharey=True)\n",
    "sns.barplot(ax=axes[0],data=importances_lf , ci=\"sd\", color=\"green\")\n",
    "sns.barplot(ax=axes[1],data=importances_pf , ci=\"sd\", color=\"green\")\n",
    "\n",
    "fig.suptitle(\"Feature importances\")\n",
    "axes[0].set_xlabel(\"Letter Features\")\n",
    "axes[1].set_xlabel(\"Phonological Features\")\n",
    "axes[0].set_ylabel(\"Importance (e^w)\")\n",
    "\n",
    "plt.xticks(rotation=90)\n",
    "fig.tight_layout()\n",
    "fig.subplots_adjust(top=0.88)"
   ]
  },
  {
   "cell_type": "markdown",
   "metadata": {},
   "source": [
    "### Logistic Regression"
   ]
  },
  {
   "cell_type": "code",
   "execution_count": 88,
   "metadata": {},
   "outputs": [
    {
     "name": "stderr",
     "output_type": "stream",
     "text": [
      "C:\\Users\\gk200\\Anaconda3\\lib\\site-packages\\sklearn\\model_selection\\_split.py:293: FutureWarning: Setting a random_state has no effect since shuffle is False. This will raise an error in 0.24. You should leave random_state to its default (None), or set shuffle=True.\n",
      "  warnings.warn(\n"
     ]
    }
   ],
   "source": [
    "LRLF_age = train_LRC(age_df, \"letter_vec\", \"age\")\n",
    "LRLFAGE_results = metrics_and_eval(LRLF_age[0])"
   ]
  },
  {
   "cell_type": "code",
   "execution_count": 89,
   "metadata": {},
   "outputs": [
    {
     "name": "stdout",
     "output_type": "stream",
     "text": [
      "Accuracy: \n",
      "0.5126050420168067\n",
      "Precision: \n",
      "[0.50943396 0.51515152]\n",
      "Recall: \n",
      "[0.45762712 0.56666667]\n",
      "Confusion matrix: \n",
      "[[27 32]\n",
      " [26 34]]\n",
      "Accuracy per nametype: \n",
      "{'real': 0.5, 'talking': 0.5121951219512195, 'madeup': 0.5121951219512195}\n",
      "\n",
      "\n",
      "Avg MAE per nametype:\n",
      "{'real': 0.5, 'talking': 0.5, 'madeup': 0.5}\n",
      "R2 score:\n",
      "-0.1844494139374313\n",
      "MAE:\n",
      "0.4856975568967427\n",
      "MSE:\n",
      "0.2960914430717115\n",
      "Median AE:\n",
      "0.4729863792782698\n"
     ]
    }
   ],
   "source": [
    "print(\"Accuracy: \", LRLFAGE_results[0], \"Precision: \", LRLFAGE_results[1], \"Recall: \", LRLFAGE_results[2], \n",
    "      \"Confusion matrix: \", LRLFAGE_results[3], \"Accuracy per nametype: \", LRLFAGE_results[4], \"\\n\", \n",
    "      \"Avg MAE per nametype:\", LRLFAGE_results[5], \"R2 score:\", LRLFAGE_results[6], \"MAE:\", LRLFAGE_results[7], \n",
    "      \"MSE:\", LRLFAGE_results[8], \"Median AE:\", LRLFAGE_results[9], sep=\"\\n\")"
   ]
  },
  {
   "cell_type": "code",
   "execution_count": 90,
   "metadata": {},
   "outputs": [
    {
     "name": "stderr",
     "output_type": "stream",
     "text": [
      "C:\\Users\\gk200\\Anaconda3\\lib\\site-packages\\sklearn\\model_selection\\_split.py:293: FutureWarning: Setting a random_state has no effect since shuffle is False. This will raise an error in 0.24. You should leave random_state to its default (None), or set shuffle=True.\n",
      "  warnings.warn(\n"
     ]
    }
   ],
   "source": [
    "LRPF_age = train_LRC(age_df, \"phonological_vec\", \"age\")\n",
    "LRPFAGE_results = metrics_and_eval(LRPF_age[0])"
   ]
  },
  {
   "cell_type": "code",
   "execution_count": 91,
   "metadata": {},
   "outputs": [
    {
     "name": "stdout",
     "output_type": "stream",
     "text": [
      "Accuracy: \n",
      "0.48739495798319327\n",
      "Precision: \n",
      "[0.47916667 0.49295775]\n",
      "Recall: \n",
      "[0.38983051 0.58333333]\n",
      "Confusion matrix: \n",
      "[[23 36]\n",
      " [25 35]]\n",
      "Accuracy per nametype: \n",
      "{'real': 0.5, 'talking': 0.43902439024390244, 'madeup': 0.43902439024390244}\n",
      "\n",
      "\n",
      "Avg MAE per nametype:\n",
      "{'real': 0.5, 'talking': 0.5, 'madeup': 0.5}\n",
      "R2 score:\n",
      "0.013846739805015273\n",
      "MAE:\n",
      "0.4918740285922218\n",
      "MSE:\n",
      "0.2465209053802871\n",
      "Median AE:\n",
      "0.4925663277790723\n"
     ]
    }
   ],
   "source": [
    "print(\"Accuracy: \", LRPFAGE_results[0], \"Precision: \", LRPFAGE_results[1], \"Recall: \", LRPFAGE_results[2], \n",
    "      \"Confusion matrix: \", LRPFAGE_results[3], \"Accuracy per nametype: \", LRPFAGE_results[4], \"\\n\", \n",
    "      \"Avg MAE per nametype:\", LRPFAGE_results[5], \"R2 score:\", LRPFAGE_results[6], \"MAE:\", LRPFAGE_results[7], \n",
    "      \"MSE:\", LRPFAGE_results[8], \"Median AE:\", LRPFAGE_results[9], sep=\"\\n\")"
   ]
  },
  {
   "cell_type": "code",
   "execution_count": 92,
   "metadata": {},
   "outputs": [],
   "source": [
    "LRCLFAGE_pred = pd.DataFrame(LRLF_age[0], columns=[\"Name\", \"Name Type\", \"Feature Rep\", \"Author Intent\", \"Prediction\", \"Pred Probability\"])\n",
    "LRCLFAGE_pred[\"Features\"] = [\"Letter\" for i in range(len(LRLF_age[0]))]\n",
    "\n",
    "LRCPFAGE_pred = pd.DataFrame(LRPF_age[0], columns=[\"Name\", \"Name Type\", \"Feature Rep\", \"Author Intent\", \"Prediction\",  \"Pred Probability\"])\n",
    "LRCPFAGE_pred[\"Features\"] = [\"Phonological\" for i in range(len(LRPF_age[0]))]\n",
    "\n",
    "LRCAGE_pred = LRCLFAGE_pred.append(LRCPFAGE_pred)"
   ]
  },
  {
   "cell_type": "code",
   "execution_count": 93,
   "metadata": {},
   "outputs": [
    {
     "name": "stderr",
     "output_type": "stream",
     "text": [
      "<ipython-input-93-522fcf914225>:4: UserWarning: Matplotlib is currently using module://ipykernel.pylab.backend_inline, which is a non-GUI backend, so cannot show the figure.\n",
      "  fig.show()\n"
     ]
    },
    {
     "data": {
      "image/png": "[encoded data removed]",
      "text/plain": [
       "<Figure size 1080x360 with 4 Axes>"
      ]
     },
     "metadata": {
      "needs_background": "light"
     },
     "output_type": "display_data"
    }
   ],
   "source": [
    "fig, ax =plt.subplots(1,2, figsize=(15,5))\n",
    "sns.heatmap(LRLFAGE_results[3], annot=True, ax=ax[0])\n",
    "sns.heatmap(LRPFAGE_results[3], annot=True, ax=ax[1])\n",
    "fig.show()"
   ]
  },
  {
   "cell_type": "code",
   "execution_count": 94,
   "metadata": {},
   "outputs": [
    {
     "data": {
      "image/png": "[encoded data removed]",
      "text/plain": [
       "<Figure size 1080x360 with 2 Axes>"
      ]
     },
     "metadata": {
      "needs_background": "light"
     },
     "output_type": "display_data"
    }
   ],
   "source": [
    "importances_lf = pd.DataFrame(data=LRLF_age[1], columns=feature_names_lf)\n",
    "importances_lf[\"Features\"] = [\"Letter\" for i in range(len(importances_lf))]\n",
    "\n",
    "importances_pf = pd.DataFrame(data=LRPF_age[1], columns=feature_names_pf)\n",
    "importances_pf[\"Features\"] = [\"Phonological\" for i in range(len(importances_pf))]\n",
    "\n",
    "fig, axes = plt.subplots(1,2, figsize=(15,5), sharey=True)\n",
    "sns.barplot(ax=axes[0],data=importances_lf , ci=\"sd\", color=\"green\")\n",
    "sns.barplot(ax=axes[1],data=importances_pf , ci=\"sd\", color=\"green\")\n",
    "\n",
    "fig.suptitle(\"Feature importances\")\n",
    "axes[0].set_xlabel(\"Letter Features\")\n",
    "axes[1].set_xlabel(\"Phonological Features\")\n",
    "axes[0].set_ylabel(\"Importance (e^w)\")\n",
    "\n",
    "plt.xticks(rotation=90)\n",
    "fig.tight_layout()\n",
    "fig.subplots_adjust(top=0.88)"
   ]
  },
  {
   "cell_type": "code",
   "execution_count": null,
   "metadata": {},
   "outputs": [],
   "source": []
  }
 ],
 "metadata": {
  "kernelspec": {
   "display_name": "Python 3",
   "language": "python",
   "name": "python3"
  },
  "language_info": {
   "codemirror_mode": {
    "name": "ipython",
    "version": 3
   },
   "file_extension": ".py",
   "mimetype": "text/x-python",
   "name": "python",
   "nbconvert_exporter": "python",
   "pygments_lexer": "ipython3",
   "version": "3.8.3"
  }
 },
 "nbformat": 4,
 "nbformat_minor": 4
}
